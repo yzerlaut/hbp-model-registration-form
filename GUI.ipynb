{
 "cells": [
  {
   "cell_type": "code",
   "execution_count": 7,
   "metadata": {},
   "outputs": [],
   "source": [
    "%%capture\n",
    "# install fairgraph for the interaction with the HBP Knowledge Graph\n",
    "!rm -rf fairgraph\n",
    "!git clone https://github.com/apdavison/fairgraph.git\n",
    "!pip install -r ./fairgraph/requirements.txt\n",
    "!pip install -U ./fairgraph\n",
    "# install the code for the Model Registration Procedure\n",
    "!rm -rf hbp_model_registration_form\n",
    "!git clone https://github.com/yzerlaut/hbp_model_registration_form.git\n",
    "!pip install -r  hbp_model_registration_form/requirements.txt \n",
    "!jupyter nbextension enable --py widgetsnbextension # widgets for the Jupyter Notebook\n"
   ]
  },
  {
   "cell_type": "code",
   "execution_count": 2,
   "metadata": {},
   "outputs": [
    {
     "data": {
      "application/vnd.jupyter.widget-view+json": {
       "model_id": "c48fbf421ce9400b9239a19984fa2c0a",
       "version_major": 2,
       "version_minor": 0
      },
      "text/plain": [
       "Textarea(value='', description='Description:', layout=Layout(width='70%'), placeholder='Decribe the model here…"
      ]
     },
     "metadata": {},
     "output_type": "display_data"
    }
   ],
   "source": [
    "widgets.Textarea(placeholder='Decribe the model here',\n",
    "                 description='Description:',\n",
    "                layout={'width':'70%'})"
   ]
  },
  {
   "cell_type": "code",
   "execution_count": 1,
   "metadata": {},
   "outputs": [
    {
     "name": "stdout",
     "output_type": "stream",
     "text": [
      "Not able to load the HBP token (neither through the jupyter_collab_storage module nor locally)\n",
      "-----------------------------------------------\n",
      "--- MODEL REGISTRATION IN HBP MODEL CATALOG ---\n",
      "-----------------------------------------------\n"
     ]
    },
    {
     "data": {
      "application/vnd.jupyter.widget-view+json": {
       "model_id": "b8a315af52e0400cafa3ca0990a5ab3a",
       "version_major": 2,
       "version_minor": 0
      },
      "text/plain": [
       "interactive(children=(Text(value='', description='Name:', layout=Layout(width='70%'), placeholder='e.g. Layer …"
      ]
     },
     "metadata": {},
     "output_type": "display_data"
    },
    {
     "data": {
      "application/vnd.jupyter.widget-view+json": {
       "model_id": "8c69f98323da4c5fad6324224e107502",
       "version_major": 2,
       "version_minor": 0
      },
      "text/plain": [
       "interactive(children=(Text(value='', description='Alias:', layout=Layout(width='70%'), placeholder='e.g. L5-CA…"
      ]
     },
     "metadata": {},
     "output_type": "display_data"
    },
    {
     "data": {
      "application/vnd.jupyter.widget-view+json": {
       "model_id": "bc089ed1f50e42749a2dc82df25ef5bf",
       "version_major": 2,
       "version_minor": 0
      },
      "text/plain": [
       "interactive(children=(Text(value='', description='Contact:', layout=Layout(width='70%'), placeholder='e.g. Smi…"
      ]
     },
     "metadata": {},
     "output_type": "display_data"
    },
    {
     "data": {
      "application/vnd.jupyter.widget-view+json": {
       "model_id": "5c8448698f1647949536f52ae6f7339f",
       "version_major": 2,
       "version_minor": 0
      },
      "text/plain": [
       "interactive(children=(Text(value='', description='Institution:', layout=Layout(width='70%'), placeholder='e.g.…"
      ]
     },
     "metadata": {},
     "output_type": "display_data"
    },
    {
     "data": {
      "application/vnd.jupyter.widget-view+json": {
       "model_id": "0673605439d6434aad5a6fb68c6a4fdd",
       "version_major": 2,
       "version_minor": 0
      },
      "text/plain": [
       "interactive(children=(Text(value='', description='Contributors:', description_tooltip='e.g. Smith, John D.; Du…"
      ]
     },
     "metadata": {},
     "output_type": "display_data"
    },
    {
     "data": {
      "application/vnd.jupyter.widget-view+json": {
       "model_id": "6eba1e5608084b789a6771e096369cae",
       "version_major": 2,
       "version_minor": 0
      },
      "text/plain": [
       "interactive(children=(Textarea(value='', description='Description:', layout=Layout(height='150px', width='70%'…"
      ]
     },
     "metadata": {},
     "output_type": "display_data"
    },
    {
     "data": {
      "application/vnd.jupyter.widget-view+json": {
       "model_id": "f9638d3bbc5145969006e7c972e8505e",
       "version_major": 2,
       "version_minor": 0
      },
      "text/plain": [
       "interactive(children=(Text(value='', description='Fig. URL:', layout=Layout(width='70%'), placeholder='e.g. ht…"
      ]
     },
     "metadata": {},
     "output_type": "display_data"
    },
    {
     "data": {
      "application/vnd.jupyter.widget-view+json": {
       "model_id": "af4e2cfd7b6948588c531693c3f687b1",
       "version_major": 2,
       "version_minor": 0
      },
      "text/plain": [
       "Image(value=b'', width='50')"
      ]
     },
     "metadata": {},
     "output_type": "display_data"
    },
    {
     "data": {
      "application/vnd.jupyter.widget-view+json": {
       "model_id": "6c3a6ca1d5cb4ae9926b9e63450f3e34",
       "version_major": 2,
       "version_minor": 0
      },
      "text/plain": [
       "interactive(children=(Dropdown(description='Species:', layout=Layout(width='70%'), options=('', 'Callithrix Ja…"
      ]
     },
     "metadata": {},
     "output_type": "display_data"
    },
    {
     "data": {
      "application/vnd.jupyter.widget-view+json": {
       "model_id": "71be8180a69c4bfd8ced7b863e105359",
       "version_major": 2,
       "version_minor": 0
      },
      "text/plain": [
       "interactive(children=(Dropdown(description='Region:', layout=Layout(width='70%'), options=('', 'Cortex', 'Hipp…"
      ]
     },
     "metadata": {},
     "output_type": "display_data"
    },
    {
     "data": {
      "application/vnd.jupyter.widget-view+json": {
       "model_id": "aa04f11aa83f43888b5fb67acdebc1d6",
       "version_major": 2,
       "version_minor": 0
      },
      "text/plain": [
       "interactive(children=(Text(value='', description='Cell type::', layout=Layout(width='70%'), placeholder='e.g. …"
      ]
     },
     "metadata": {},
     "output_type": "display_data"
    },
    {
     "data": {
      "application/vnd.jupyter.widget-view+json": {
       "model_id": "200d7421fe554c938ea66f4d455baeca",
       "version_major": 2,
       "version_minor": 0
      },
      "text/plain": [
       "interactive(children=(Dropdown(description='Model scope:', layout=Layout(width='70%'), options=('', 'network',…"
      ]
     },
     "metadata": {},
     "output_type": "display_data"
    },
    {
     "data": {
      "application/vnd.jupyter.widget-view+json": {
       "model_id": "edf257acee264306b91aff32ef17b13f",
       "version_major": 2,
       "version_minor": 0
      },
      "text/plain": [
       "interactive(children=(Dropdown(description='Abstraction level:', layout=Layout(width='70%'), options=('', 'bio…"
      ]
     },
     "metadata": {},
     "output_type": "display_data"
    },
    {
     "data": {
      "application/vnd.jupyter.widget-view+json": {
       "model_id": "f18a34da6cd444679e21c6132d4a7fd2",
       "version_major": 2,
       "version_minor": 0
      },
      "text/plain": [
       "interactive(children=(RadioButtons(description='License', options=('Free', 'OpenSource', 'CreativeCommons'), v…"
      ]
     },
     "metadata": {},
     "output_type": "display_data"
    },
    {
     "data": {
      "application/vnd.jupyter.widget-view+json": {
       "model_id": "30123dd795414b4493c344b46c5fcf5c",
       "version_major": 2,
       "version_minor": 0
      },
      "text/plain": [
       "interactive(children=(HTML(value='<b>Add a Version </b> (optional)', description='x', layout=Layout(width='70%…"
      ]
     },
     "metadata": {},
     "output_type": "display_data"
    },
    {
     "data": {
      "application/vnd.jupyter.widget-view+json": {
       "model_id": "3936d2c6d4174813a90665c939d7551a",
       "version_major": 2,
       "version_minor": 0
      },
      "text/plain": [
       "interactive(children=(Text(value='', description='Name:', layout=Layout(width='70%'), placeholder='e.g. v1.0')…"
      ]
     },
     "metadata": {},
     "output_type": "display_data"
    },
    {
     "data": {
      "application/vnd.jupyter.widget-view+json": {
       "model_id": "0f86449e718c4eceaf3261e77057e141",
       "version_major": 2,
       "version_minor": 0
      },
      "text/plain": [
       "interactive(children=(Text(value='', description='URL location:', placeholder='e.g. https://github.com/name/re…"
      ]
     },
     "metadata": {},
     "output_type": "display_data"
    },
    {
     "data": {
      "application/vnd.jupyter.widget-view+json": {
       "model_id": "3f4fc521fd9444abaf5ee35e85772a92",
       "version_major": 2,
       "version_minor": 0
      },
      "text/plain": [
       "interactive(children=(Text(value='', description='Commit:', placeholder=''), Button(description='Check commit'…"
      ]
     },
     "metadata": {},
     "output_type": "display_data"
    },
    {
     "data": {
      "application/vnd.jupyter.widget-view+json": {
       "model_id": "b980ae07029e4bf1996aa0a798a7aeaa",
       "version_major": 2,
       "version_minor": 0
      },
      "text/plain": [
       "interactive(children=(Textarea(value='', description='Description:', layout=Layout(height='150px', width='70%'…"
      ]
     },
     "metadata": {},
     "output_type": "display_data"
    },
    {
     "data": {
      "application/vnd.jupyter.widget-view+json": {
       "model_id": "a8ebd431f2714c7bacfd23f98d407d0a",
       "version_major": 2,
       "version_minor": 0
      },
      "text/plain": [
       "interactive(children=(Textarea(value='', description='Description:', layout=Layout(height='150px', width='70%'…"
      ]
     },
     "metadata": {},
     "output_type": "display_data"
    },
    {
     "data": {
      "application/vnd.jupyter.widget-view+json": {
       "model_id": "de176886b13f4f438a3005dd55d15077",
       "version_major": 2,
       "version_minor": 0
      },
      "text/plain": [
       "interactive(children=(ToggleButton(value=False, description=' * -> Submit <- * ', icon='check', layout=Layout(…"
      ]
     },
     "metadata": {},
     "output_type": "display_data"
    }
   ],
   "source": [
    "%run jupyter_form.py\n",
    "#from hbp_model_registration_form.jupyter_form import Registration_Form\n",
    "Form = Registration_Form()\n",
    "Form.show_registration_form()"
   ]
  },
  {
   "cell_type": "code",
   "execution_count": null,
   "metadata": {},
   "outputs": [],
   "source": []
  },
  {
   "cell_type": "markdown",
   "metadata": {},
   "source": [
    "## An example of a filled registration form"
   ]
  },
  {
   "cell_type": "code",
   "execution_count": 2,
   "metadata": {},
   "outputs": [
    {
     "name": "stdout",
     "output_type": "stream",
     "text": [
      "-----------------------------------------------\n",
      "--- MODEL REGISTRATION IN HBP MODEL CATALOG ---\n",
      "-----------------------------------------------\n"
     ]
    },
    {
     "data": {
      "application/vnd.jupyter.widget-view+json": {
       "model_id": "b8a315af52e0400cafa3ca0990a5ab3a",
       "version_major": 2,
       "version_minor": 0
      },
      "text/plain": [
       "interactive(children=(Text(value='Rall model morphology for Layer V pyramidal neuron in juvenile mice V1', des…"
      ]
     },
     "metadata": {},
     "output_type": "display_data"
    },
    {
     "data": {
      "application/vnd.jupyter.widget-view+json": {
       "model_id": "8c69f98323da4c5fad6324224e107502",
       "version_major": 2,
       "version_minor": 0
      },
      "text/plain": [
       "interactive(children=(Text(value='Rall-Morpho_L5PyrMiceV1', description='Alias:', layout=Layout(width='70%'), …"
      ]
     },
     "metadata": {},
     "output_type": "display_data"
    },
    {
     "data": {
      "application/vnd.jupyter.widget-view+json": {
       "model_id": "bc089ed1f50e42749a2dc82df25ef5bf",
       "version_major": 2,
       "version_minor": 0
      },
      "text/plain": [
       "interactive(children=(Text(value='Zerlaut, Yann', description='Contact:', layout=Layout(width='70%'), placehol…"
      ]
     },
     "metadata": {},
     "output_type": "display_data"
    },
    {
     "data": {
      "application/vnd.jupyter.widget-view+json": {
       "model_id": "5c8448698f1647949536f52ae6f7339f",
       "version_major": 2,
       "version_minor": 0
      },
      "text/plain": [
       "interactive(children=(Text(value='CNRS, France', description='Institution:', layout=Layout(width='70%'), place…"
      ]
     },
     "metadata": {},
     "output_type": "display_data"
    },
    {
     "data": {
      "application/vnd.jupyter.widget-view+json": {
       "model_id": "0673605439d6434aad5a6fb68c6a4fdd",
       "version_major": 2,
       "version_minor": 0
      },
      "text/plain": [
       "interactive(children=(Text(value='Zerlaut, Yann; Destexhe, Alain', description='Contributors:', description_to…"
      ]
     },
     "metadata": {},
     "output_type": "display_data"
    },
    {
     "data": {
      "application/vnd.jupyter.widget-view+json": {
       "model_id": "6eba1e5608084b789a6771e096369cae",
       "version_major": 2,
       "version_minor": 0
      },
      "text/plain": [
       "interactive(children=(Textarea(value='Neocortical processing of sensory input relies on the specific activatio…"
      ]
     },
     "metadata": {},
     "output_type": "display_data"
    },
    {
     "data": {
      "application/vnd.jupyter.widget-view+json": {
       "model_id": "f9638d3bbc5145969006e7c972e8505e",
       "version_major": 2,
       "version_minor": 0
      },
      "text/plain": [
       "interactive(children=(Text(value='https://raw.github.com/yzerlaut/diverse_coupling_to_synaptic_activity/master…"
      ]
     },
     "metadata": {},
     "output_type": "display_data"
    },
    {
     "data": {
      "application/vnd.jupyter.widget-view+json": {
       "model_id": "af4e2cfd7b6948588c531693c3f687b1",
       "version_major": 2,
       "version_minor": 0
      },
      "text/plain": [
       "Image(value=b'', width='50')"
      ]
     },
     "metadata": {},
     "output_type": "display_data"
    },
    {
     "data": {
      "application/vnd.jupyter.widget-view+json": {
       "model_id": "6c3a6ca1d5cb4ae9926b9e63450f3e34",
       "version_major": 2,
       "version_minor": 0
      },
      "text/plain": [
       "interactive(children=(Dropdown(description='Species:', index=6, layout=Layout(width='70%'), options=('', 'Call…"
      ]
     },
     "metadata": {},
     "output_type": "display_data"
    },
    {
     "data": {
      "application/vnd.jupyter.widget-view+json": {
       "model_id": "71be8180a69c4bfd8ced7b863e105359",
       "version_major": 2,
       "version_minor": 0
      },
      "text/plain": [
       "interactive(children=(Dropdown(description='Region:', index=1, layout=Layout(width='70%'), options=('', 'Corte…"
      ]
     },
     "metadata": {},
     "output_type": "display_data"
    },
    {
     "data": {
      "application/vnd.jupyter.widget-view+json": {
       "model_id": "aa04f11aa83f43888b5fb67acdebc1d6",
       "version_major": 2,
       "version_minor": 0
      },
      "text/plain": [
       "interactive(children=(Text(value='Pyramidal Cell', description='Cell type::', layout=Layout(width='70%'), plac…"
      ]
     },
     "metadata": {},
     "output_type": "display_data"
    },
    {
     "data": {
      "application/vnd.jupyter.widget-view+json": {
       "model_id": "200d7421fe554c938ea66f4d455baeca",
       "version_major": 2,
       "version_minor": 0
      },
      "text/plain": [
       "interactive(children=(Dropdown(description='Model scope:', index=5, layout=Layout(width='70%'), options=('', '…"
      ]
     },
     "metadata": {},
     "output_type": "display_data"
    },
    {
     "data": {
      "application/vnd.jupyter.widget-view+json": {
       "model_id": "edf257acee264306b91aff32ef17b13f",
       "version_major": 2,
       "version_minor": 0
      },
      "text/plain": [
       "interactive(children=(Dropdown(description='Abstraction level:', index=1, layout=Layout(width='70%'), options=…"
      ]
     },
     "metadata": {},
     "output_type": "display_data"
    },
    {
     "data": {
      "application/vnd.jupyter.widget-view+json": {
       "model_id": "f18a34da6cd444679e21c6132d4a7fd2",
       "version_major": 2,
       "version_minor": 0
      },
      "text/plain": [
       "interactive(children=(RadioButtons(description='License', options=('Free', 'OpenSource', 'CreativeCommons'), v…"
      ]
     },
     "metadata": {},
     "output_type": "display_data"
    },
    {
     "data": {
      "application/vnd.jupyter.widget-view+json": {
       "model_id": "30123dd795414b4493c344b46c5fcf5c",
       "version_major": 2,
       "version_minor": 0
      },
      "text/plain": [
       "interactive(children=(HTML(value='<b>Add a Version </b> (optional)', description='x', layout=Layout(width='70%…"
      ]
     },
     "metadata": {},
     "output_type": "display_data"
    },
    {
     "data": {
      "application/vnd.jupyter.widget-view+json": {
       "model_id": "3936d2c6d4174813a90665c939d7551a",
       "version_major": 2,
       "version_minor": 0
      },
      "text/plain": [
       "interactive(children=(Text(value='PCB2017', description='Name:', layout=Layout(width='70%'), placeholder='e.g.…"
      ]
     },
     "metadata": {},
     "output_type": "display_data"
    },
    {
     "data": {
      "application/vnd.jupyter.widget-view+json": {
       "model_id": "0f86449e718c4eceaf3261e77057e141",
       "version_major": 2,
       "version_minor": 0
      },
      "text/plain": [
       "interactive(children=(Text(value='https://github.com/yzerlaut/diverse_coupling_to_synaptic_activity', descript…"
      ]
     },
     "metadata": {},
     "output_type": "display_data"
    },
    {
     "data": {
      "application/vnd.jupyter.widget-view+json": {
       "model_id": "3f4fc521fd9444abaf5ee35e85772a92",
       "version_major": 2,
       "version_minor": 0
      },
      "text/plain": [
       "interactive(children=(Text(value='8223e95', description='Commit:', placeholder=''), Button(description='Check …"
      ]
     },
     "metadata": {},
     "output_type": "display_data"
    },
    {
     "data": {
      "application/vnd.jupyter.widget-view+json": {
       "model_id": "b980ae07029e4bf1996aa0a798a7aeaa",
       "version_major": 2,
       "version_minor": 0
      },
      "text/plain": [
       "interactive(children=(Textarea(value='version published as : \"Heterogeneous firing responses predict diverse c…"
      ]
     },
     "metadata": {},
     "output_type": "display_data"
    },
    {
     "data": {
      "application/vnd.jupyter.widget-view+json": {
       "model_id": "a8ebd431f2714c7bacfd23f98d407d0a",
       "version_major": 2,
       "version_minor": 0
      },
      "text/plain": [
       "interactive(children=(Textarea(value='', description='Description:', layout=Layout(height='150px', width='70%'…"
      ]
     },
     "metadata": {},
     "output_type": "display_data"
    },
    {
     "data": {
      "application/vnd.jupyter.widget-view+json": {
       "model_id": "de176886b13f4f438a3005dd55d15077",
       "version_major": 2,
       "version_minor": 0
      },
      "text/plain": [
       "interactive(children=(ToggleButton(value=True, description=' * -> Submit <- * ', icon='check', layout=Layout(h…"
      ]
     },
     "metadata": {},
     "output_type": "display_data"
    }
   ],
   "source": [
    "Zerlaut_Destexhe_PCB2017 = {\n",
    "    'name':'Rall model morphology for Layer V pyramidal neuron in juvenile mice V1',\n",
    "    'alias':'Rall-Morpho_L5PyrMiceV1',\n",
    "    'contact': 'Zerlaut, Yann',\n",
    "    'contributors': 'Zerlaut, Yann; Destexhe, Alain',\n",
    "    'institution': 'CNRS, France',\n",
    "    'description': 'Neocortical processing of sensory input relies on the specific activation of subpopulations within the cortical network. Though specific circuitry is thought to be the primary mechanism underlying this functional principle, we explore here a putative complementary mechanism: whether diverse biophysical features in single neurons contribute to such differential activation. In a previous study, we reported that, in young mice visual cortex, individual neurons differ not only in their excitability but also in their sensitivities to the properties of the membrane potential fluctuations. In the present work, we analyze how this heterogeneity is translated into diverse input-output properties in the context of low synchrony population dynamics. As expected, we found that individual neurons couple differentially to specific form of presynaptic activity (emulating afferent stimuli of various properties) mostly because of their differences in excitability. However, we also found that the response to proximal dendritic input was controlled by the sensitivity to the speed of the fluctuations (which can be linked to various levels of density of sodium channels and sodium inactivation). Our study thus proposes a novel quantitative insight into the functional impact of biophysical heterogeneity: because of their various firing responses to fluctuations, individual neurons will differentially couple to local network activity.',\n",
    "    'species':'Mus Musculus',\n",
    "    'region':'Cortex',\n",
    "    'cell_type':'Pyramidal Cell',\n",
    "    'scope':'single cell',\n",
    "    'abstraction':'biophysical model',\n",
    "    'version_name':'PCB2017',\n",
    "    'version_description':'version published as : \"Heterogeneous firing responses predict diverse couplings to presynaptic activity in mice layer V pyramidal neurons\" Y Zerlaut, A Destexhe. PLoS computational biology 13 (4), e1005452',\n",
    "    'data_url':'https://github.com/yzerlaut/diverse_coupling_to_synaptic_activity',\n",
    "    'fig_url':'https://raw.github.com/yzerlaut/diverse_coupling_to_synaptic_activity/master/figures/fig2_demo.png',\n",
    "    'commit_id':'8223e95',\n",
    "    'license':'Free'}\n",
    "Form.fill_with_dictionary(Zerlaut_Destexhe_PCB2017)\n",
    "Form.show_registration_form()"
   ]
  },
  {
   "cell_type": "code",
   "execution_count": 5,
   "metadata": {},
   "outputs": [
    {
     "name": "stdout",
     "output_type": "stream",
     "text": [
      "\u001b[0m\u001b[01;31marchive.zip\u001b[0m                   jupyter_form.py\r\n",
      "\u001b[01;34mfairgraph\u001b[0m/                    kg_interaction.py\r\n",
      "\u001b[01;35mfig.png\u001b[0m                       \u001b[01;34m__pycache__\u001b[0m/\r\n",
      "\u001b[01;35mgraphical_abstract.png\u001b[0m        Rall-Morpho_L5PyrMiceV1__2019_08_28-21:06:51.JSON\r\n",
      "GUI.ipynb                     Rall-Morpho_L5PyrMiceV1__2019_08_28-21:07:39.JSON\r\n",
      "\u001b[01;34mhbp_model_registration_form\u001b[0m/  README.md\r\n",
      "\u001b[01;35micon.png\u001b[0m                      requirements.txt\r\n",
      "__init__.py\r\n"
     ]
    }
   ],
   "source": [
    "ls"
   ]
  },
  {
   "cell_type": "code",
   "execution_count": null,
   "metadata": {},
   "outputs": [],
   "source": []
  }
 ],
 "metadata": {
  "kernelspec": {
   "display_name": "Python 3",
   "language": "python",
   "name": "python3"
  },
  "language_info": {
   "codemirror_mode": {
    "name": "ipython",
    "version": 3
   },
   "file_extension": ".py",
   "mimetype": "text/x-python",
   "name": "python",
   "nbconvert_exporter": "python",
   "pygments_lexer": "ipython3",
   "version": "3.7.3"
  }
 },
 "nbformat": 4,
 "nbformat_minor": 2
}
