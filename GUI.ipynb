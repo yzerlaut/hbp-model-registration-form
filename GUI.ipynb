{
 "cells": [
  {
   "cell_type": "code",
   "execution_count": 7,
   "metadata": {},
   "outputs": [],
   "source": [
    "%%capture\n",
    "# install fairgraph for the interaction with the HBP Knowledge Graph\n",
    "!rm -rf fairgraph\n",
    "!git clone https://github.com/apdavison/fairgraph.git\n",
    "!pip install -r ./fairgraph/requirements.txt\n",
    "!pip install -U ./fairgraph\n",
    "# install the code for the Model Registration Procedure\n",
    "!rm -rf hbp_model_registration_form\n",
    "!git clone https://github.com/yzerlaut/hbp_model_registration_form.git\n",
    "!pip install -r  hbp_model_registration_form/requirements.txt \n",
    "!jupyter nbextension enable --py widgetsnbextension # widgets for the Jupyter Notebook\n"
   ]
  },
  {
   "cell_type": "code",
   "execution_count": 2,
   "metadata": {},
   "outputs": [
    {
     "data": {
      "application/vnd.jupyter.widget-view+json": {
       "model_id": "c48fbf421ce9400b9239a19984fa2c0a",
       "version_major": 2,
       "version_minor": 0
      },
      "text/plain": [
       "Textarea(value='', description='Description:', layout=Layout(width='70%'), placeholder='Decribe the model here…"
      ]
     },
     "metadata": {},
     "output_type": "display_data"
    }
   ],
   "source": [
    "widgets.Textarea(placeholder='Decribe the model here',\n",
    "                 description='Description:',\n",
    "                layout={'width':'70%'})"
   ]
  },
  {
   "cell_type": "code",
   "execution_count": 1,
   "metadata": {},
   "outputs": [
    {
     "name": "stdout",
     "output_type": "stream",
     "text": [
      "Not able to load the HBP token (neither through the jupyter_collab_storage module nor locally)\n",
      "-----------------------------------------------\n",
      "--- MODEL REGISTRATION IN HBP MODEL CATALOG ---\n",
      "-----------------------------------------------\n"
     ]
    },
    {
     "data": {
      "application/vnd.jupyter.widget-view+json": {
       "model_id": "b6aff48a50cd4cad94c3f44b13d7e464",
       "version_major": 2,
       "version_minor": 0
      },
      "text/plain": [
       "interactive(children=(Text(value='', description='Name:', layout=Layout(width='70%'), placeholder='e.g. Layer …"
      ]
     },
     "metadata": {},
     "output_type": "display_data"
    },
    {
     "data": {
      "application/vnd.jupyter.widget-view+json": {
       "model_id": "daac3e576e92498fbb2fd78ba144e355",
       "version_major": 2,
       "version_minor": 0
      },
      "text/plain": [
       "interactive(children=(Text(value='', description='Alias:', layout=Layout(width='70%'), placeholder='e.g. L5-CA…"
      ]
     },
     "metadata": {},
     "output_type": "display_data"
    },
    {
     "data": {
      "application/vnd.jupyter.widget-view+json": {
       "model_id": "d348487218db424a971d0a719114e963",
       "version_major": 2,
       "version_minor": 0
      },
      "text/plain": [
       "interactive(children=(Text(value='', description='Contact:', layout=Layout(width='70%'), placeholder='e.g. Smi…"
      ]
     },
     "metadata": {},
     "output_type": "display_data"
    },
    {
     "data": {
      "application/vnd.jupyter.widget-view+json": {
       "model_id": "2454178d423b45c6b55a81f20cc0eba3",
       "version_major": 2,
       "version_minor": 0
      },
      "text/plain": [
       "interactive(children=(Text(value='', description='Institution:', layout=Layout(width='70%'), placeholder='e.g.…"
      ]
     },
     "metadata": {},
     "output_type": "display_data"
    },
    {
     "data": {
      "application/vnd.jupyter.widget-view+json": {
       "model_id": "4fb2dab3d366400292c5676be864cb34",
       "version_major": 2,
       "version_minor": 0
      },
      "text/plain": [
       "interactive(children=(Text(value='', description='Contributors:', description_tooltip='e.g. Smith, John D.; Du…"
      ]
     },
     "metadata": {},
     "output_type": "display_data"
    },
    {
     "data": {
      "application/vnd.jupyter.widget-view+json": {
       "model_id": "d913e11614204880968621970e7a5985",
       "version_major": 2,
       "version_minor": 0
      },
      "text/plain": [
       "interactive(children=(Textarea(value='', description='Description:', layout=Layout(height='150px', width='70%'…"
      ]
     },
     "metadata": {},
     "output_type": "display_data"
    },
    {
     "data": {
      "application/vnd.jupyter.widget-view+json": {
       "model_id": "36ea57666fcf46d0a59590c309e51fe9",
       "version_major": 2,
       "version_minor": 0
      },
      "text/plain": [
       "interactive(children=(Text(value='', description='Fig. URL:', layout=Layout(width='70%'), placeholder='e.g. ht…"
      ]
     },
     "metadata": {},
     "output_type": "display_data"
    },
    {
     "data": {
      "application/vnd.jupyter.widget-view+json": {
       "model_id": "858d73283d4c4e70b5ef6c7874e2c469",
       "version_major": 2,
       "version_minor": 0
      },
      "text/plain": [
       "Image(value=b'', width='50')"
      ]
     },
     "metadata": {},
     "output_type": "display_data"
    },
    {
     "data": {
      "application/vnd.jupyter.widget-view+json": {
       "model_id": "ba1bb2f5e3034f41be6a0a9d8c982858",
       "version_major": 2,
       "version_minor": 0
      },
      "text/plain": [
       "interactive(children=(Dropdown(description='Species:', layout=Layout(width='70%'), options=('', 'Callithrix Ja…"
      ]
     },
     "metadata": {},
     "output_type": "display_data"
    },
    {
     "data": {
      "application/vnd.jupyter.widget-view+json": {
       "model_id": "54cc222a87c84cc4b6e7172351769814",
       "version_major": 2,
       "version_minor": 0
      },
      "text/plain": [
       "interactive(children=(Dropdown(description='Region:', layout=Layout(width='70%'), options=('', 'Cortex', 'Hipp…"
      ]
     },
     "metadata": {},
     "output_type": "display_data"
    },
    {
     "data": {
      "application/vnd.jupyter.widget-view+json": {
       "model_id": "5614e3857b2946678ac2433edd2a5244",
       "version_major": 2,
       "version_minor": 0
      },
      "text/plain": [
       "interactive(children=(Text(value='', description='Cell type::', layout=Layout(width='70%'), placeholder='e.g. …"
      ]
     },
     "metadata": {},
     "output_type": "display_data"
    },
    {
     "data": {
      "application/vnd.jupyter.widget-view+json": {
       "model_id": "2a20b6c06dbf490887f54c71fb7f896b",
       "version_major": 2,
       "version_minor": 0
      },
      "text/plain": [
       "interactive(children=(Dropdown(description='Model scope:', layout=Layout(width='70%'), options=('', 'network',…"
      ]
     },
     "metadata": {},
     "output_type": "display_data"
    },
    {
     "data": {
      "application/vnd.jupyter.widget-view+json": {
       "model_id": "1651fdc6879e4e3f9b0aac9f5b920f23",
       "version_major": 2,
       "version_minor": 0
      },
      "text/plain": [
       "interactive(children=(Dropdown(description='Abstraction level:', layout=Layout(width='70%'), options=('', 'bio…"
      ]
     },
     "metadata": {},
     "output_type": "display_data"
    },
    {
     "data": {
      "application/vnd.jupyter.widget-view+json": {
       "model_id": "e911cd35c142474fa6df1fcdc0bda4cb",
       "version_major": 2,
       "version_minor": 0
      },
      "text/plain": [
       "interactive(children=(RadioButtons(description='License', options=('Free', 'OpenSource', 'CreativeCommons'), v…"
      ]
     },
     "metadata": {},
     "output_type": "display_data"
    },
    {
     "data": {
      "application/vnd.jupyter.widget-view+json": {
       "model_id": "dcd1c64fce3a4333a47b870ae76c3dca",
       "version_major": 2,
       "version_minor": 0
      },
      "text/plain": [
       "interactive(children=(HTML(value='<b>Add a Version </b> (optional)', description='x', layout=Layout(width='70%…"
      ]
     },
     "metadata": {},
     "output_type": "display_data"
    },
    {
     "data": {
      "application/vnd.jupyter.widget-view+json": {
       "model_id": "45bd1951a465462a904a0660146d63be",
       "version_major": 2,
       "version_minor": 0
      },
      "text/plain": [
       "interactive(children=(Text(value='', description='Name:', layout=Layout(width='70%'), placeholder='e.g. v1.0')…"
      ]
     },
     "metadata": {},
     "output_type": "display_data"
    },
    {
     "data": {
      "application/vnd.jupyter.widget-view+json": {
       "model_id": "2fdd19cd71124ffaa7a5e8807e77c710",
       "version_major": 2,
       "version_minor": 0
      },
      "text/plain": [
       "interactive(children=(Text(value='', description='URL location:', placeholder='e.g. https://github.com/name/re…"
      ]
     },
     "metadata": {},
     "output_type": "display_data"
    },
    {
     "data": {
      "application/vnd.jupyter.widget-view+json": {
       "model_id": "87551bf2a67949958770e0a32b2dab83",
       "version_major": 2,
       "version_minor": 0
      },
      "text/plain": [
       "interactive(children=(Text(value='', description='Commit:', layout=Layout(width='70%'), placeholder='If using …"
      ]
     },
     "metadata": {},
     "output_type": "display_data"
    },
    {
     "data": {
      "application/vnd.jupyter.widget-view+json": {
       "model_id": "09f9cbcadb2b495b8fc3685129b3a3c1",
       "version_major": 2,
       "version_minor": 0
      },
      "text/plain": [
       "interactive(children=(Textarea(value='', description='Description:', layout=Layout(height='150px', width='70%'…"
      ]
     },
     "metadata": {},
     "output_type": "display_data"
    },
    {
     "data": {
      "application/vnd.jupyter.widget-view+json": {
       "model_id": "104a3f2ac7464cc48758404c67354317",
       "version_major": 2,
       "version_minor": 0
      },
      "text/plain": [
       "interactive(children=(Textarea(value='', description='Parameters:', layout=Layout(height='150px', width='70%')…"
      ]
     },
     "metadata": {},
     "output_type": "display_data"
    },
    {
     "data": {
      "application/vnd.jupyter.widget-view+json": {
       "model_id": "cc80c17876414cd2a2150df613fbb017",
       "version_major": 2,
       "version_minor": 0
      },
      "text/plain": [
       "interactive(children=(ToggleButton(value=False, description=' * -> Submit <- * ', icon='check', layout=Layout(…"
      ]
     },
     "metadata": {},
     "output_type": "display_data"
    }
   ],
   "source": [
    "%run jupyter_form.py\n",
    "#from hbp_model_registration_form.jupyter_form import Registration_Form\n",
    "Form = Registration_Form()\n",
    "Form.show_registration_form()"
   ]
  },
  {
   "cell_type": "code",
   "execution_count": 8,
   "metadata": {},
   "outputs": [
    {
     "name": "stdout",
     "output_type": "stream",
     "text": [
      " {\"name\":\"Rall model morphology for Layer V pyramidal neuron in juvenile mice V1\",\n",
      "\"alias\":\"Rall-Morpho_L5PyrMiceV1\",\n",
      "\"contact\":\"Zerlaut, Yann\",\n",
      "\"institution\":\"CNRS, France\",\n",
      "\"contributors\":\"Zerlaut, Yann; Destexhe, Alain\",\n",
      "\"description\":\"Neocortical processing of sensory input relies on the specific activation of subpopulations within the cortical network. Though specific circuitry is thought to be the primary mechanism underlying this functional principle, we explore here a putative complementary mechanism: whether diverse biophysical features in single neurons contribute to such differential activation. In a previous study, we reported that, in young mice visual cortex, individual neurons differ not only in their excitability but also in their sensitivities to the properties of the membrane potential fluctuations. In the present work, we analyze how this heterogeneity is translated into diverse input-output properties in the context of low synchrony population dynamics. As expected, we found that individual neurons couple differentially to specific form of presynaptic activity (emulating afferent stimuli of various properties) mostly because of their differences in excitability. However, we also found that the response to proximal dendritic input was controlled by the sensitivity to the speed of the fluctuations (which can be linked to various levels of density of sodium channels and sodium inactivation). Our study thus proposes a novel quantitative insight into the functional impact of biophysical heterogeneity: because of their various firing responses to fluctuations, individual neurons will differentially couple to local network activity.\",\n",
      "\"fig_url\":\"https://raw.github.com/yzerlaut/diverse_coupling_to_synaptic_activity/master/figures/fig2_demo.png\",\n",
      "\"species\":\"Mus Musculus\",\n",
      "\"region\":\"Cortex\",\n",
      "\"cell_type\":\"Pyramidal Cell\",\n",
      "\"scope\":\"single cell\",\n",
      "\"abstraction\":\"biophysical model\",\n",
      "\"license\":\"Free\",\n",
      "\"version_text\":\"<b>Add a Version </b> (optional)\",\n",
      "\"version_name\":\"PCB2017\",\n",
      "\"data_url\":\"https://github.com/yzerlaut/diverse_coupling_to_synaptic_activity\",\n",
      "\"commit_id\":\"8223e95\",\n",
      "\"version_description\":\"version published as : Heterogeneous firing responses predict diverse couplings to presynaptic activity in mice layer V pyramidal neurons Y Zerlaut, A Destexhe. PLoS computational biology 13 (4), e1005452\",\n",
      "\"version_parameter\":\"\",\n",
      "}\n"
     ]
    }
   ],
   "source": [
    "Form.print_registration_results()"
   ]
  },
  {
   "cell_type": "markdown",
   "metadata": {},
   "source": [
    "## An example of a filled registration form"
   ]
  },
  {
   "cell_type": "code",
   "execution_count": 7,
   "metadata": {},
   "outputs": [
    {
     "name": "stdout",
     "output_type": "stream",
     "text": [
      "-----------------------------------------------\n",
      "--- MODEL REGISTRATION IN HBP MODEL CATALOG ---\n",
      "-----------------------------------------------\n"
     ]
    },
    {
     "data": {
      "application/vnd.jupyter.widget-view+json": {
       "model_id": "b6aff48a50cd4cad94c3f44b13d7e464",
       "version_major": 2,
       "version_minor": 0
      },
      "text/plain": [
       "interactive(children=(Text(value='Rall model morphology for Layer V pyramidal neuron in juvenile mice V1', des…"
      ]
     },
     "metadata": {},
     "output_type": "display_data"
    },
    {
     "data": {
      "application/vnd.jupyter.widget-view+json": {
       "model_id": "daac3e576e92498fbb2fd78ba144e355",
       "version_major": 2,
       "version_minor": 0
      },
      "text/plain": [
       "interactive(children=(Text(value='Rall-Morpho_L5PyrMiceV1', description='Alias:', layout=Layout(width='70%'), …"
      ]
     },
     "metadata": {},
     "output_type": "display_data"
    },
    {
     "data": {
      "application/vnd.jupyter.widget-view+json": {
       "model_id": "d348487218db424a971d0a719114e963",
       "version_major": 2,
       "version_minor": 0
      },
      "text/plain": [
       "interactive(children=(Text(value='Zerlaut, Yann', description='Contact:', layout=Layout(width='70%'), placehol…"
      ]
     },
     "metadata": {},
     "output_type": "display_data"
    },
    {
     "data": {
      "application/vnd.jupyter.widget-view+json": {
       "model_id": "2454178d423b45c6b55a81f20cc0eba3",
       "version_major": 2,
       "version_minor": 0
      },
      "text/plain": [
       "interactive(children=(Text(value='CNRS, France', description='Institution:', layout=Layout(width='70%'), place…"
      ]
     },
     "metadata": {},
     "output_type": "display_data"
    },
    {
     "data": {
      "application/vnd.jupyter.widget-view+json": {
       "model_id": "4fb2dab3d366400292c5676be864cb34",
       "version_major": 2,
       "version_minor": 0
      },
      "text/plain": [
       "interactive(children=(Text(value='Zerlaut, Yann; Destexhe, Alain', description='Contributors:', description_to…"
      ]
     },
     "metadata": {},
     "output_type": "display_data"
    },
    {
     "data": {
      "application/vnd.jupyter.widget-view+json": {
       "model_id": "d913e11614204880968621970e7a5985",
       "version_major": 2,
       "version_minor": 0
      },
      "text/plain": [
       "interactive(children=(Textarea(value='Neocortical processing of sensory input relies on the specific activatio…"
      ]
     },
     "metadata": {},
     "output_type": "display_data"
    },
    {
     "data": {
      "application/vnd.jupyter.widget-view+json": {
       "model_id": "36ea57666fcf46d0a59590c309e51fe9",
       "version_major": 2,
       "version_minor": 0
      },
      "text/plain": [
       "interactive(children=(Text(value='https://raw.github.com/yzerlaut/diverse_coupling_to_synaptic_activity/master…"
      ]
     },
     "metadata": {},
     "output_type": "display_data"
    },
    {
     "data": {
      "application/vnd.jupyter.widget-view+json": {
       "model_id": "858d73283d4c4e70b5ef6c7874e2c469",
       "version_major": 2,
       "version_minor": 0
      },
      "text/plain": [
       "Image(value=b'', width='50')"
      ]
     },
     "metadata": {},
     "output_type": "display_data"
    },
    {
     "data": {
      "application/vnd.jupyter.widget-view+json": {
       "model_id": "ba1bb2f5e3034f41be6a0a9d8c982858",
       "version_major": 2,
       "version_minor": 0
      },
      "text/plain": [
       "interactive(children=(Dropdown(description='Species:', index=6, layout=Layout(width='70%'), options=('', 'Call…"
      ]
     },
     "metadata": {},
     "output_type": "display_data"
    },
    {
     "data": {
      "application/vnd.jupyter.widget-view+json": {
       "model_id": "54cc222a87c84cc4b6e7172351769814",
       "version_major": 2,
       "version_minor": 0
      },
      "text/plain": [
       "interactive(children=(Dropdown(description='Region:', index=1, layout=Layout(width='70%'), options=('', 'Corte…"
      ]
     },
     "metadata": {},
     "output_type": "display_data"
    },
    {
     "data": {
      "application/vnd.jupyter.widget-view+json": {
       "model_id": "5614e3857b2946678ac2433edd2a5244",
       "version_major": 2,
       "version_minor": 0
      },
      "text/plain": [
       "interactive(children=(Text(value='Pyramidal Cell', description='Cell type::', layout=Layout(width='70%'), plac…"
      ]
     },
     "metadata": {},
     "output_type": "display_data"
    },
    {
     "data": {
      "application/vnd.jupyter.widget-view+json": {
       "model_id": "2a20b6c06dbf490887f54c71fb7f896b",
       "version_major": 2,
       "version_minor": 0
      },
      "text/plain": [
       "interactive(children=(Dropdown(description='Model scope:', index=5, layout=Layout(width='70%'), options=('', '…"
      ]
     },
     "metadata": {},
     "output_type": "display_data"
    },
    {
     "data": {
      "application/vnd.jupyter.widget-view+json": {
       "model_id": "1651fdc6879e4e3f9b0aac9f5b920f23",
       "version_major": 2,
       "version_minor": 0
      },
      "text/plain": [
       "interactive(children=(Dropdown(description='Abstraction level:', index=1, layout=Layout(width='70%'), options=…"
      ]
     },
     "metadata": {},
     "output_type": "display_data"
    },
    {
     "data": {
      "application/vnd.jupyter.widget-view+json": {
       "model_id": "e911cd35c142474fa6df1fcdc0bda4cb",
       "version_major": 2,
       "version_minor": 0
      },
      "text/plain": [
       "interactive(children=(RadioButtons(description='License', options=('Free', 'OpenSource', 'CreativeCommons'), v…"
      ]
     },
     "metadata": {},
     "output_type": "display_data"
    },
    {
     "data": {
      "application/vnd.jupyter.widget-view+json": {
       "model_id": "dcd1c64fce3a4333a47b870ae76c3dca",
       "version_major": 2,
       "version_minor": 0
      },
      "text/plain": [
       "interactive(children=(HTML(value='<b>Add a Version </b> (optional)', description='x', layout=Layout(width='70%…"
      ]
     },
     "metadata": {},
     "output_type": "display_data"
    },
    {
     "data": {
      "application/vnd.jupyter.widget-view+json": {
       "model_id": "45bd1951a465462a904a0660146d63be",
       "version_major": 2,
       "version_minor": 0
      },
      "text/plain": [
       "interactive(children=(Text(value='PCB2017', description='Name:', layout=Layout(width='70%'), placeholder='e.g.…"
      ]
     },
     "metadata": {},
     "output_type": "display_data"
    },
    {
     "data": {
      "application/vnd.jupyter.widget-view+json": {
       "model_id": "2fdd19cd71124ffaa7a5e8807e77c710",
       "version_major": 2,
       "version_minor": 0
      },
      "text/plain": [
       "interactive(children=(Text(value='https://github.com/yzerlaut/diverse_coupling_to_synaptic_activity', descript…"
      ]
     },
     "metadata": {},
     "output_type": "display_data"
    },
    {
     "data": {
      "application/vnd.jupyter.widget-view+json": {
       "model_id": "87551bf2a67949958770e0a32b2dab83",
       "version_major": 2,
       "version_minor": 0
      },
      "text/plain": [
       "interactive(children=(Text(value='8223e95', description='Commit:', layout=Layout(width='70%'), placeholder='If…"
      ]
     },
     "metadata": {},
     "output_type": "display_data"
    },
    {
     "data": {
      "application/vnd.jupyter.widget-view+json": {
       "model_id": "09f9cbcadb2b495b8fc3685129b3a3c1",
       "version_major": 2,
       "version_minor": 0
      },
      "text/plain": [
       "interactive(children=(Textarea(value='version published as : \"Heterogeneous firing responses predict diverse c…"
      ]
     },
     "metadata": {},
     "output_type": "display_data"
    },
    {
     "data": {
      "application/vnd.jupyter.widget-view+json": {
       "model_id": "104a3f2ac7464cc48758404c67354317",
       "version_major": 2,
       "version_minor": 0
      },
      "text/plain": [
       "interactive(children=(Textarea(value='', description='Parameters:', layout=Layout(height='150px', width='70%')…"
      ]
     },
     "metadata": {},
     "output_type": "display_data"
    },
    {
     "data": {
      "application/vnd.jupyter.widget-view+json": {
       "model_id": "cc80c17876414cd2a2150df613fbb017",
       "version_major": 2,
       "version_minor": 0
      },
      "text/plain": [
       "interactive(children=(ToggleButton(value=True, description=' * -> Submit <- * ', icon='check', layout=Layout(h…"
      ]
     },
     "metadata": {},
     "output_type": "display_data"
    }
   ],
   "source": [
    "from hbp_model_registration_form.jupyter_form import Zerlaut_Destexhe_PCB2017\n",
    "Form.fill_with_dictionary(Zerlaut_Destexhe_PCB2017)\n",
    "Form.show_registration_form()"
   ]
  },
  {
   "cell_type": "code",
   "execution_count": 5,
   "metadata": {
    "scrolled": true
   },
   "outputs": [
    {
     "name": "stdout",
     "output_type": "stream",
     "text": [
      "\u001b[0m\u001b[01;31marchive.zip\u001b[0m             \u001b[01;34mhbp_model_registration_form\u001b[0m/  \u001b[01;34m__pycache__\u001b[0m/\r\n",
      "\u001b[01;34mfairgraph\u001b[0m/              \u001b[01;35micon.png\u001b[0m                      README.md\r\n",
      "\u001b[01;35mfig.png\u001b[0m                 __init__.py                   requirements.txt\r\n",
      "\u001b[01;35mgraphical_abstract.png\u001b[0m  jupyter_form.py\r\n",
      "GUI.ipynb               kg_interaction.py\r\n"
     ]
    }
   ],
   "source": [
    "ls"
   ]
  },
  {
   "cell_type": "code",
   "execution_count": 4,
   "metadata": {},
   "outputs": [
    {
     "ename": "SyntaxError",
     "evalue": "unexpected character after line continuation character (<ipython-input-4-95e25a00152b>, line 1)",
     "output_type": "error",
     "traceback": [
      "\u001b[0;36m  File \u001b[0;32m\"<ipython-input-4-95e25a00152b>\"\u001b[0;36m, line \u001b[0;32m1\u001b[0m\n\u001b[0;31m    model_entry = {\\\"name\":\"Rall model morphology for Layer V pyramidal neuron in juvenile mice V1\",\u001b[0m\n\u001b[0m                                                                                                    ^\u001b[0m\n\u001b[0;31mSyntaxError\u001b[0m\u001b[0;31m:\u001b[0m unexpected character after line continuation character\n"
     ]
    }
   ],
   "source": [
    "model_entry = {\\\"name\":\"Rall model morphology for Layer V pyramidal neuron in juvenile mice V1\",\n",
    "\"alias\":\"Rall-Morpho_L5PyrMiceV1\",\n",
    "\"contact\":\"Zerlaut, Yann\",\n",
    "\"institution\":\"CNRS, France\",\n",
    "\"contributors\":\"Zerlaut, Yann; Destexhe, Alain\",\n",
    "\"description\":\"Neocortical processing of sensory input relies on the specific activation of subpopulations within the cortical network. Though specific circuitry is thought to be the primary mechanism underlying this functional principle, we explore here a putative complementary mechanism: whether diverse biophysical features in single neurons contribute to such differential activation. In a previous study, we reported that, in young mice visual cortex, individual neurons differ not only in their excitability but also in their sensitivities to the properties of the membrane potential fluctuations. In the present work, we analyze how this heterogeneity is translated into diverse input-output properties in the context of low synchrony population dynamics. As expected, we found that individual neurons couple differentially to specific form of presynaptic activity (emulating afferent stimuli of various properties) mostly because of their differences in excitability. However, we also found that the response to proximal dendritic input was controlled by the sensitivity to the speed of the fluctuations (which can be linked to various levels of density of sodium channels and sodium inactivation). Our study thus proposes a novel quantitative insight into the functional impact of biophysical heterogeneity: because of their various firing responses to fluctuations, individual neurons will differentially couple to local network activity.\",\n",
    "\"fig_url\":\"https://raw.github.com/yzerlaut/diverse_coupling_to_synaptic_activity/master/figures/fig2_demo.png\",\n",
    "\"species\":\"Mus Musculus\",\n",
    "\"region\":\"Cortex\",\n",
    "\"cell_type\":\"Pyramidal Cell\",\n",
    "\"scope\":\"single cell\",\n",
    "\"abstraction\":\"biophysical model\",\n",
    "\"license\":\"Free\",\n",
    "\"version_text\":\"<b>Add a Version </b> (optional)\",\n",
    "\"version_name\":\"PCB2017\",\n",
    "\"data_url\":\"https://github.com/yzerlaut/diverse_coupling_to_synaptic_activity\",\n",
    "\"commit_id\":\"8223e95\",\n",
    "\"version_description\":\"version published as : Heterogeneous firing responses predict diverse couplings to presynaptic activity in mice layer V pyramidal neurons Y Zerlaut, A Destexhe. PLoS computational biology 13 (4), e1005452\",\n",
    "\"version_parameter\":\"\",\n",
    "}"
   ]
  },
  {
   "cell_type": "code",
   "execution_count": null,
   "metadata": {},
   "outputs": [],
   "source": []
  }
 ],
 "metadata": {
  "kernelspec": {
   "display_name": "Python 3",
   "language": "python",
   "name": "python3"
  },
  "language_info": {
   "codemirror_mode": {
    "name": "ipython",
    "version": 3
   },
   "file_extension": ".py",
   "mimetype": "text/x-python",
   "name": "python",
   "nbconvert_exporter": "python",
   "pygments_lexer": "ipython3",
   "version": "3.7.3"
  }
 },
 "nbformat": 4,
 "nbformat_minor": 2
}
